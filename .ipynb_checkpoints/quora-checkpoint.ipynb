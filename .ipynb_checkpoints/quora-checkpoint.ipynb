{
 "cells": [
  {
   "cell_type": "code",
   "execution_count": 1,
   "metadata": {
    "collapsed": true
   },
   "outputs": [],
   "source": [
    "import pandas as pd\n",
    "import gensim\n",
    "from gensim.models import Doc2Vec\n",
    "from gensim.models.doc2vec import LabeledSentence\n",
    "import numpy as np\n",
    "import nltk\n",
    "import random\n",
    "import logging"
   ]
  },
  {
   "cell_type": "code",
   "execution_count": 2,
   "metadata": {
    "collapsed": false
   },
   "outputs": [],
   "source": [
    "logging.basicConfig(format='%(asctime)s : %(levelname)s : %(message)s', level=logging.INFO)"
   ]
  },
  {
   "cell_type": "code",
   "execution_count": 3,
   "metadata": {
    "collapsed": false
   },
   "outputs": [],
   "source": [
    "from nltk.corpus import stopwords\n",
    "# nltk.download(\"stopwords\")\n",
    "# nltk.download('punkt')\n",
    "stop = set(stopwords.words('english'))"
   ]
  },
  {
   "cell_type": "code",
   "execution_count": 4,
   "metadata": {
    "collapsed": false
   },
   "outputs": [
    {
     "data": {
      "text/plain": [
       "(404290, 7)"
      ]
     },
     "execution_count": 4,
     "metadata": {},
     "output_type": "execute_result"
    }
   ],
   "source": [
    "df = pd.read_csv('train.csv')\n",
    "df['index1'] = df.index\n",
    "df = df.fillna(\"\")\n",
    "df.shape"
   ]
  },
  {
   "cell_type": "code",
   "execution_count": 5,
   "metadata": {
    "collapsed": false
   },
   "outputs": [
    {
     "data": {
      "text/plain": [
       "False    404290\n",
       "Name: question2, dtype: int64"
      ]
     },
     "execution_count": 5,
     "metadata": {},
     "output_type": "execute_result"
    }
   ],
   "source": [
    "df.question2.isnull().value_counts()"
   ]
  },
  {
   "cell_type": "code",
   "execution_count": 6,
   "metadata": {
    "collapsed": true
   },
   "outputs": [],
   "source": [
    "df = df[:10000]"
   ]
  },
  {
   "cell_type": "code",
   "execution_count": 7,
   "metadata": {
    "collapsed": true
   },
   "outputs": [],
   "source": [
    "def get_words(question) :\n",
    "    return list(filter(lambda word: word not in stop and word.isalpha(), nltk.word_tokenize(question.lower())))"
   ]
  },
  {
   "cell_type": "code",
   "execution_count": 8,
   "metadata": {
    "collapsed": false
   },
   "outputs": [],
   "source": [
    "getLabeledSentence = lambda given_tuple: [\n",
    "             LabeledSentence(get_words(given_tuple[0]),[\"question1_\"+str(given_tuple[2])]),  \n",
    "             LabeledSentence(get_words(given_tuple[1]),[\"question2_\"+str(given_tuple[2])])]"
   ]
  },
  {
   "cell_type": "code",
   "execution_count": 9,
   "metadata": {
    "collapsed": false
   },
   "outputs": [],
   "source": [
    "flatten = lambda l: [item for sublist in l for item in sublist]\n",
    "\n",
    "sentences = flatten(list(map(lambda x: getLabeledSentence(x) , df[['question1', 'question2', 'index1']].values)))"
   ]
  },
  {
   "cell_type": "code",
   "execution_count": 10,
   "metadata": {
    "collapsed": false
   },
   "outputs": [
    {
     "data": {
      "text/plain": [
       "20000"
      ]
     },
     "execution_count": 10,
     "metadata": {},
     "output_type": "execute_result"
    }
   ],
   "source": [
    "len(sentences)"
   ]
  },
  {
   "cell_type": "code",
   "execution_count": 11,
   "metadata": {
    "collapsed": false
   },
   "outputs": [],
   "source": [
    "model = Doc2Vec(min_count=1, window=10, size=1000, sample=1e-4, negative=5, workers=8)"
   ]
  },
  {
   "cell_type": "code",
   "execution_count": 12,
   "metadata": {
    "collapsed": false
   },
   "outputs": [
    {
     "name": "stderr",
     "output_type": "stream",
     "text": [
      "2017-04-19 17:28:58,072 : INFO : collecting all words and their counts\n",
      "2017-04-19 17:28:58,074 : INFO : PROGRESS: at example #0, processed 0 words (0/s), 0 word types, 0 tags\n",
      "2017-04-19 17:28:58,164 : INFO : PROGRESS: at example #10000, processed 52633 words (595041/s), 9639 word types, 10000 tags\n",
      "2017-04-19 17:28:58,240 : INFO : collected 13939 word types and 20000 unique tags from a corpus of 20000 examples and 104890 words\n",
      "2017-04-19 17:28:58,241 : INFO : Loading a fresh vocabulary\n",
      "2017-04-19 17:28:58,280 : INFO : min_count=1 retains 13939 unique words (100% of original 13939, drops 0)\n",
      "2017-04-19 17:28:58,281 : INFO : min_count=1 leaves 104890 word corpus (100% of original 104890, drops 0)\n",
      "2017-04-19 17:28:58,355 : INFO : deleting the raw counts dictionary of 13939 items\n",
      "2017-04-19 17:28:58,357 : INFO : sample=0.0001 downsamples 708 most-common words\n",
      "2017-04-19 17:28:58,358 : INFO : downsampling leaves estimated 75243 word corpus (71.7% of prior 104890)\n",
      "2017-04-19 17:28:58,359 : INFO : estimated required memory for 13939 words and 1000 dimensions: 202481500 bytes\n",
      "2017-04-19 17:28:58,404 : INFO : resetting layer weights\n"
     ]
    }
   ],
   "source": [
    "model.build_vocab(sentences)"
   ]
  },
  {
   "cell_type": "code",
   "execution_count": null,
   "metadata": {
    "collapsed": false
   },
   "outputs": [
    {
     "name": "stderr",
     "output_type": "stream",
     "text": [
      "2017-04-19 17:29:00,747 : INFO : training model with 8 workers on 13939 vocabulary and 1000 features, using sg=0 hs=0 sample=0.0001 negative=5 window=10\n",
      "2017-04-19 17:29:00,749 : INFO : expecting 20000 sentences, matching count from corpus used for vocabulary survey\n",
      "2017-04-19 17:29:01,880 : INFO : PROGRESS: at 1.88% examples, 8134 words/s, in_qsize 15, out_qsize 0\n",
      "2017-04-19 17:29:03,023 : INFO : PROGRESS: at 17.16% examples, 36214 words/s, in_qsize 15, out_qsize 0\n",
      "2017-04-19 17:29:04,259 : INFO : PROGRESS: at 32.40% examples, 44193 words/s, in_qsize 15, out_qsize 0\n",
      "2017-04-19 17:29:05,342 : INFO : PROGRESS: at 47.66% examples, 49624 words/s, in_qsize 15, out_qsize 0\n",
      "2017-04-19 17:29:06,615 : INFO : PROGRESS: at 62.91% examples, 51229 words/s, in_qsize 16, out_qsize 0\n",
      "2017-04-19 17:29:07,619 : INFO : PROGRESS: at 78.15% examples, 54316 words/s, in_qsize 12, out_qsize 0\n",
      "2017-04-19 17:29:07,806 : INFO : worker thread finished; awaiting finish of 7 more threads\n",
      "2017-04-19 17:29:07,817 : INFO : worker thread finished; awaiting finish of 6 more threads\n",
      "2017-04-19 17:29:07,851 : INFO : worker thread finished; awaiting finish of 5 more threads\n",
      "2017-04-19 17:29:08,044 : INFO : worker thread finished; awaiting finish of 4 more threads\n",
      "2017-04-19 17:29:08,201 : INFO : worker thread finished; awaiting finish of 3 more threads\n",
      "2017-04-19 17:29:08,215 : INFO : worker thread finished; awaiting finish of 2 more threads\n",
      "2017-04-19 17:29:08,223 : INFO : worker thread finished; awaiting finish of 1 more threads\n",
      "2017-04-19 17:29:08,227 : INFO : worker thread finished; awaiting finish of 0 more threads\n",
      "2017-04-19 17:29:08,228 : INFO : training on 524450 raw words (476154 effective words) took 7.5s, 63815 effective words/s\n",
      "2017-04-19 17:29:08,229 : WARNING : under 10 jobs per worker: consider setting a smaller `batch_words' for smoother alpha decay\n",
      "2017-04-19 17:29:08,252 : INFO : training model with 8 workers on 13939 vocabulary and 1000 features, using sg=0 hs=0 sample=0.0001 negative=5 window=10\n",
      "2017-04-19 17:29:08,253 : INFO : expecting 20000 sentences, matching count from corpus used for vocabulary survey\n",
      "2017-04-19 17:29:09,284 : INFO : PROGRESS: at 1.90% examples, 8991 words/s, in_qsize 15, out_qsize 0\n",
      "2017-04-19 17:29:10,319 : INFO : PROGRESS: at 17.16% examples, 39773 words/s, in_qsize 15, out_qsize 0\n",
      "2017-04-19 17:29:11,330 : INFO : PROGRESS: at 32.40% examples, 50329 words/s, in_qsize 15, out_qsize 0\n",
      "2017-04-19 17:29:12,414 : INFO : PROGRESS: at 47.63% examples, 54686 words/s, in_qsize 15, out_qsize 0\n",
      "2017-04-19 17:29:13,419 : INFO : PROGRESS: at 62.87% examples, 58124 words/s, in_qsize 15, out_qsize 0\n",
      "2017-04-19 17:29:14,427 : INFO : PROGRESS: at 78.16% examples, 60398 words/s, in_qsize 12, out_qsize 0\n",
      "2017-04-19 17:29:14,550 : INFO : worker thread finished; awaiting finish of 7 more threads\n",
      "2017-04-19 17:29:14,561 : INFO : worker thread finished; awaiting finish of 6 more threads\n",
      "2017-04-19 17:29:14,600 : INFO : worker thread finished; awaiting finish of 5 more threads\n",
      "2017-04-19 17:29:14,782 : INFO : worker thread finished; awaiting finish of 4 more threads\n",
      "2017-04-19 17:29:14,972 : INFO : worker thread finished; awaiting finish of 3 more threads\n",
      "2017-04-19 17:29:14,983 : INFO : worker thread finished; awaiting finish of 2 more threads\n",
      "2017-04-19 17:29:14,992 : INFO : worker thread finished; awaiting finish of 1 more threads\n",
      "2017-04-19 17:29:15,008 : INFO : worker thread finished; awaiting finish of 0 more threads\n",
      "2017-04-19 17:29:15,009 : INFO : training on 524450 raw words (476390 effective words) took 6.7s, 70598 effective words/s\n",
      "2017-04-19 17:29:15,010 : WARNING : under 10 jobs per worker: consider setting a smaller `batch_words' for smoother alpha decay\n",
      "2017-04-19 17:29:15,033 : INFO : training model with 8 workers on 13939 vocabulary and 1000 features, using sg=0 hs=0 sample=0.0001 negative=5 window=10\n",
      "2017-04-19 17:29:15,034 : INFO : expecting 20000 sentences, matching count from corpus used for vocabulary survey\n",
      "2017-04-19 17:29:16,088 : INFO : PROGRESS: at 1.89% examples, 8695 words/s, in_qsize 15, out_qsize 0\n",
      "2017-04-19 17:29:17,122 : INFO : PROGRESS: at 17.16% examples, 39294 words/s, in_qsize 15, out_qsize 0\n",
      "2017-04-19 17:29:18,146 : INFO : PROGRESS: at 32.43% examples, 49702 words/s, in_qsize 15, out_qsize 0\n",
      "2017-04-19 17:29:19,222 : INFO : PROGRESS: at 47.66% examples, 54287 words/s, in_qsize 15, out_qsize 0\n",
      "2017-04-19 17:29:20,295 : INFO : PROGRESS: at 62.90% examples, 56990 words/s, in_qsize 15, out_qsize 0\n",
      "2017-04-19 17:29:21,336 : INFO : PROGRESS: at 81.94% examples, 61960 words/s, in_qsize 10, out_qsize 0\n",
      "2017-04-19 17:29:21,388 : INFO : worker thread finished; awaiting finish of 7 more threads\n",
      "2017-04-19 17:29:21,405 : INFO : worker thread finished; awaiting finish of 6 more threads\n",
      "2017-04-19 17:29:21,458 : INFO : worker thread finished; awaiting finish of 5 more threads\n",
      "2017-04-19 17:29:21,689 : INFO : worker thread finished; awaiting finish of 4 more threads\n",
      "2017-04-19 17:29:21,837 : INFO : worker thread finished; awaiting finish of 3 more threads\n",
      "2017-04-19 17:29:21,875 : INFO : worker thread finished; awaiting finish of 2 more threads\n",
      "2017-04-19 17:29:21,884 : INFO : worker thread finished; awaiting finish of 1 more threads\n",
      "2017-04-19 17:29:21,891 : INFO : worker thread finished; awaiting finish of 0 more threads\n",
      "2017-04-19 17:29:21,892 : INFO : training on 524450 raw words (475756 effective words) took 6.8s, 69473 effective words/s\n",
      "2017-04-19 17:29:21,893 : WARNING : under 10 jobs per worker: consider setting a smaller `batch_words' for smoother alpha decay\n",
      "2017-04-19 17:29:21,916 : INFO : training model with 8 workers on 13939 vocabulary and 1000 features, using sg=0 hs=0 sample=0.0001 negative=5 window=10\n",
      "2017-04-19 17:29:21,917 : INFO : expecting 20000 sentences, matching count from corpus used for vocabulary survey\n",
      "2017-04-19 17:29:23,052 : INFO : PROGRESS: at 1.90% examples, 7988 words/s, in_qsize 15, out_qsize 0\n",
      "2017-04-19 17:29:24,125 : INFO : PROGRESS: at 17.18% examples, 37114 words/s, in_qsize 15, out_qsize 0\n",
      "2017-04-19 17:29:25,169 : INFO : PROGRESS: at 32.47% examples, 47551 words/s, in_qsize 16, out_qsize 0\n",
      "2017-04-19 17:29:26,198 : INFO : PROGRESS: at 47.65% examples, 53111 words/s, in_qsize 15, out_qsize 0\n",
      "2017-04-19 17:29:27,217 : INFO : PROGRESS: at 62.90% examples, 56630 words/s, in_qsize 15, out_qsize 0\n",
      "2017-04-19 17:29:28,231 : INFO : PROGRESS: at 80.07% examples, 60452 words/s, in_qsize 11, out_qsize 0\n",
      "2017-04-19 17:29:28,272 : INFO : worker thread finished; awaiting finish of 7 more threads\n",
      "2017-04-19 17:29:28,278 : INFO : worker thread finished; awaiting finish of 6 more threads\n",
      "2017-04-19 17:29:28,313 : INFO : worker thread finished; awaiting finish of 5 more threads\n",
      "2017-04-19 17:29:28,527 : INFO : worker thread finished; awaiting finish of 4 more threads\n",
      "2017-04-19 17:29:28,717 : INFO : worker thread finished; awaiting finish of 3 more threads\n",
      "2017-04-19 17:29:28,727 : INFO : worker thread finished; awaiting finish of 2 more threads\n",
      "2017-04-19 17:29:28,737 : INFO : worker thread finished; awaiting finish of 1 more threads\n",
      "2017-04-19 17:29:28,743 : INFO : worker thread finished; awaiting finish of 0 more threads\n",
      "2017-04-19 17:29:28,743 : INFO : training on 524450 raw words (476121 effective words) took 6.8s, 69825 effective words/s\n",
      "2017-04-19 17:29:28,744 : WARNING : under 10 jobs per worker: consider setting a smaller `batch_words' for smoother alpha decay\n",
      "2017-04-19 17:29:28,767 : INFO : training model with 8 workers on 13939 vocabulary and 1000 features, using sg=0 hs=0 sample=0.0001 negative=5 window=10\n",
      "2017-04-19 17:29:28,768 : INFO : expecting 20000 sentences, matching count from corpus used for vocabulary survey\n",
      "2017-04-19 17:29:29,891 : INFO : PROGRESS: at 1.88% examples, 8172 words/s, in_qsize 15, out_qsize 0\n",
      "2017-04-19 17:29:30,925 : INFO : PROGRESS: at 17.17% examples, 38265 words/s, in_qsize 15, out_qsize 0\n",
      "2017-04-19 17:29:32,015 : INFO : PROGRESS: at 32.42% examples, 47842 words/s, in_qsize 15, out_qsize 0\n",
      "2017-04-19 17:29:33,021 : INFO : PROGRESS: at 47.68% examples, 53647 words/s, in_qsize 15, out_qsize 0\n",
      "2017-04-19 17:29:34,040 : INFO : PROGRESS: at 66.75% examples, 60532 words/s, in_qsize 15, out_qsize 0\n",
      "2017-04-19 17:29:35,078 : INFO : PROGRESS: at 81.97% examples, 62063 words/s, in_qsize 10, out_qsize 0\n",
      "2017-04-19 17:29:35,109 : INFO : worker thread finished; awaiting finish of 7 more threads\n",
      "2017-04-19 17:29:35,143 : INFO : worker thread finished; awaiting finish of 6 more threads\n",
      "2017-04-19 17:29:35,149 : INFO : worker thread finished; awaiting finish of 5 more threads\n",
      "2017-04-19 17:29:35,366 : INFO : worker thread finished; awaiting finish of 4 more threads\n",
      "2017-04-19 17:29:35,547 : INFO : worker thread finished; awaiting finish of 3 more threads\n",
      "2017-04-19 17:29:35,551 : INFO : worker thread finished; awaiting finish of 2 more threads\n",
      "2017-04-19 17:29:35,564 : INFO : worker thread finished; awaiting finish of 1 more threads\n",
      "2017-04-19 17:29:35,575 : INFO : worker thread finished; awaiting finish of 0 more threads\n",
      "2017-04-19 17:29:35,576 : INFO : training on 524450 raw words (476225 effective words) took 6.8s, 70163 effective words/s\n",
      "2017-04-19 17:29:35,577 : WARNING : under 10 jobs per worker: consider setting a smaller `batch_words' for smoother alpha decay\n",
      "2017-04-19 17:29:35,600 : INFO : training model with 8 workers on 13939 vocabulary and 1000 features, using sg=0 hs=0 sample=0.0001 negative=5 window=10\n",
      "2017-04-19 17:29:35,601 : INFO : expecting 20000 sentences, matching count from corpus used for vocabulary survey\n",
      "2017-04-19 17:29:36,714 : INFO : PROGRESS: at 1.87% examples, 8160 words/s, in_qsize 15, out_qsize 0\n",
      "2017-04-19 17:29:37,874 : INFO : PROGRESS: at 17.17% examples, 36109 words/s, in_qsize 15, out_qsize 0\n",
      "2017-04-19 17:29:39,050 : INFO : PROGRESS: at 32.45% examples, 44881 words/s, in_qsize 15, out_qsize 0\n",
      "2017-04-19 17:29:40,292 : INFO : PROGRESS: at 47.73% examples, 48506 words/s, in_qsize 16, out_qsize 0\n",
      "2017-04-19 17:29:41,379 : INFO : PROGRESS: at 62.92% examples, 51924 words/s, in_qsize 15, out_qsize 0\n",
      "2017-04-19 17:29:42,445 : INFO : PROGRESS: at 81.99% examples, 57099 words/s, in_qsize 10, out_qsize 0\n",
      "2017-04-19 17:29:42,468 : INFO : worker thread finished; awaiting finish of 7 more threads\n",
      "2017-04-19 17:29:42,509 : INFO : worker thread finished; awaiting finish of 6 more threads\n",
      "2017-04-19 17:29:42,535 : INFO : worker thread finished; awaiting finish of 5 more threads\n",
      "2017-04-19 17:29:42,739 : INFO : worker thread finished; awaiting finish of 4 more threads\n",
      "2017-04-19 17:29:42,876 : INFO : worker thread finished; awaiting finish of 3 more threads\n",
      "2017-04-19 17:29:42,898 : INFO : worker thread finished; awaiting finish of 2 more threads\n",
      "2017-04-19 17:29:42,931 : INFO : worker thread finished; awaiting finish of 1 more threads\n",
      "2017-04-19 17:29:42,932 : INFO : worker thread finished; awaiting finish of 0 more threads\n",
      "2017-04-19 17:29:42,933 : INFO : training on 524450 raw words (476060 effective words) took 7.3s, 64992 effective words/s\n",
      "2017-04-19 17:29:42,934 : WARNING : under 10 jobs per worker: consider setting a smaller `batch_words' for smoother alpha decay\n",
      "2017-04-19 17:29:42,957 : INFO : training model with 8 workers on 13939 vocabulary and 1000 features, using sg=0 hs=0 sample=0.0001 negative=5 window=10\n",
      "2017-04-19 17:29:42,957 : INFO : expecting 20000 sentences, matching count from corpus used for vocabulary survey\n",
      "2017-04-19 17:29:44,029 : INFO : PROGRESS: at 1.90% examples, 8518 words/s, in_qsize 15, out_qsize 0\n",
      "2017-04-19 17:29:45,042 : INFO : PROGRESS: at 22.80% examples, 52383 words/s, in_qsize 15, out_qsize 0\n",
      "2017-04-19 17:29:46,045 : INFO : PROGRESS: at 40.01% examples, 61882 words/s, in_qsize 15, out_qsize 0\n",
      "2017-04-19 17:29:47,047 : INFO : PROGRESS: at 57.21% examples, 66707 words/s, in_qsize 15, out_qsize 0\n",
      "2017-04-19 17:29:48,922 : INFO : PROGRESS: at 78.13% examples, 62439 words/s, in_qsize 12, out_qsize 0\n",
      "2017-04-19 17:29:48,985 : INFO : worker thread finished; awaiting finish of 7 more threads\n",
      "2017-04-19 17:29:48,994 : INFO : worker thread finished; awaiting finish of 6 more threads\n",
      "2017-04-19 17:29:49,004 : INFO : worker thread finished; awaiting finish of 5 more threads\n",
      "2017-04-19 17:29:49,227 : INFO : worker thread finished; awaiting finish of 4 more threads\n",
      "2017-04-19 17:29:49,416 : INFO : worker thread finished; awaiting finish of 3 more threads\n",
      "2017-04-19 17:29:49,419 : INFO : worker thread finished; awaiting finish of 2 more threads\n",
      "2017-04-19 17:29:49,424 : INFO : worker thread finished; awaiting finish of 1 more threads\n",
      "2017-04-19 17:29:49,426 : INFO : worker thread finished; awaiting finish of 0 more threads\n",
      "2017-04-19 17:29:49,427 : INFO : training on 524450 raw words (476097 effective words) took 6.5s, 73678 effective words/s\n",
      "2017-04-19 17:29:49,427 : WARNING : under 10 jobs per worker: consider setting a smaller `batch_words' for smoother alpha decay\n",
      "2017-04-19 17:29:49,450 : INFO : training model with 8 workers on 13939 vocabulary and 1000 features, using sg=0 hs=0 sample=0.0001 negative=5 window=10\n",
      "2017-04-19 17:29:49,451 : INFO : expecting 20000 sentences, matching count from corpus used for vocabulary survey\n",
      "2017-04-19 17:29:50,492 : INFO : PROGRESS: at 1.91% examples, 8798 words/s, in_qsize 15, out_qsize 0\n",
      "2017-04-19 17:29:51,498 : INFO : PROGRESS: at 19.04% examples, 44539 words/s, in_qsize 15, out_qsize 0\n",
      "2017-04-19 17:29:52,507 : INFO : PROGRESS: at 39.96% examples, 62630 words/s, in_qsize 15, out_qsize 0\n",
      "2017-04-19 17:29:53,549 : INFO : PROGRESS: at 59.02% examples, 68860 words/s, in_qsize 15, out_qsize 0\n",
      "2017-04-19 17:29:55,385 : INFO : PROGRESS: at 78.16% examples, 62843 words/s, in_qsize 12, out_qsize 0\n",
      "2017-04-19 17:29:55,450 : INFO : worker thread finished; awaiting finish of 7 more threads\n",
      "2017-04-19 17:29:55,467 : INFO : worker thread finished; awaiting finish of 6 more threads\n",
      "2017-04-19 17:29:55,489 : INFO : worker thread finished; awaiting finish of 5 more threads\n",
      "2017-04-19 17:29:55,708 : INFO : worker thread finished; awaiting finish of 4 more threads\n",
      "2017-04-19 17:29:55,889 : INFO : worker thread finished; awaiting finish of 3 more threads\n",
      "2017-04-19 17:29:55,897 : INFO : worker thread finished; awaiting finish of 2 more threads\n",
      "2017-04-19 17:29:55,899 : INFO : worker thread finished; awaiting finish of 1 more threads\n",
      "2017-04-19 17:29:55,914 : INFO : worker thread finished; awaiting finish of 0 more threads\n",
      "2017-04-19 17:29:55,914 : INFO : training on 524450 raw words (476498 effective words) took 6.5s, 73825 effective words/s\n",
      "2017-04-19 17:29:55,915 : WARNING : under 10 jobs per worker: consider setting a smaller `batch_words' for smoother alpha decay\n",
      "2017-04-19 17:29:55,940 : INFO : training model with 8 workers on 13939 vocabulary and 1000 features, using sg=0 hs=0 sample=0.0001 negative=5 window=10\n",
      "2017-04-19 17:29:55,941 : INFO : expecting 20000 sentences, matching count from corpus used for vocabulary survey\n",
      "2017-04-19 17:29:56,977 : INFO : PROGRESS: at 1.88% examples, 8841 words/s, in_qsize 15, out_qsize 0\n",
      "2017-04-19 17:29:57,984 : INFO : PROGRESS: at 20.91% examples, 49164 words/s, in_qsize 15, out_qsize 0\n",
      "2017-04-19 17:29:58,992 : INFO : PROGRESS: at 32.33% examples, 50788 words/s, in_qsize 15, out_qsize 0\n",
      "2017-04-19 17:30:00,127 : INFO : PROGRESS: at 47.59% examples, 54392 words/s, in_qsize 15, out_qsize 0\n",
      "2017-04-19 17:30:01,141 : INFO : PROGRESS: at 64.72% examples, 59508 words/s, in_qsize 15, out_qsize 0\n",
      "2017-04-19 17:30:02,147 : INFO : PROGRESS: at 80.06% examples, 61594 words/s, in_qsize 11, out_qsize 0\n",
      "2017-04-19 17:30:02,280 : INFO : worker thread finished; awaiting finish of 7 more threads\n",
      "2017-04-19 17:30:02,284 : INFO : worker thread finished; awaiting finish of 6 more threads\n",
      "2017-04-19 17:30:02,319 : INFO : worker thread finished; awaiting finish of 5 more threads\n"
     ]
    }
   ],
   "source": [
    "for epoch in range(10):\n",
    "    random.shuffle(sentences)\n",
    "    model.train(sentences)"
   ]
  },
  {
   "cell_type": "code",
   "execution_count": 76,
   "metadata": {
    "collapsed": false
   },
   "outputs": [],
   "source": [
    "xaxis1 = []\n",
    "xaxis2 = []\n",
    "yaxis = []\n",
    "for i in range(0, 100):\n",
    "    x = model.docvecs['question1_'+str(i)]\n",
    "    y = model.docvecs['question2_'+str(i)]\n",
    "    xaxis1.append(np.dot(x,y))\n",
    "    xaxis2.append(df.is_duplicate[i])\n",
    "    yaxis.append(i)"
   ]
  },
  {
   "cell_type": "code",
   "execution_count": 77,
   "metadata": {
    "collapsed": true
   },
   "outputs": [],
   "source": [
    "import matplotlib.pyplot as plt"
   ]
  },
  {
   "cell_type": "code",
   "execution_count": 84,
   "metadata": {
    "collapsed": false
   },
   "outputs": [
    {
     "data": {
      "image/png": "[encoded data removed]",
      "text/plain": [
       "<matplotlib.figure.Figure at 0x1206874e0>"
      ]
     },
     "metadata": {},
     "output_type": "display_data"
    }
   ],
   "source": [
    "plt.plot(yaxis, xaxis1, \"r\", yaxis, xaxis2, \"g\")\n",
    "plt.show()"
   ]
  },
  {
   "cell_type": "code",
   "execution_count": null,
   "metadata": {
    "collapsed": true
   },
   "outputs": [],
   "source": []
  }
 ],
 "metadata": {
  "kernelspec": {
   "display_name": "Python 3",
   "language": "python",
   "name": "python3"
  },
  "language_info": {
   "codemirror_mode": {
    "name": "ipython",
    "version": 3
   },
   "file_extension": ".py",
   "mimetype": "text/x-python",
   "name": "python",
   "nbconvert_exporter": "python",
   "pygments_lexer": "ipython3",
   "version": "3.6.0"
  }
 },
 "nbformat": 4,
 "nbformat_minor": 2
}
